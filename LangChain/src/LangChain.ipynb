{
  "cells": [
    {
      "cell_type": "markdown",
      "metadata": {},
      "source": [
        "# Setup and Imports"
      ]
    },
    {
      "cell_type": "code",
      "execution_count": 1,
      "metadata": {
        "colab": {
          "base_uri": "https://localhost:8080/"
        },
        "id": "zJ6lFbehmZm8",
        "outputId": "315e3468-3616-4e5f-fe51-626587ac06ae"
      },
      "outputs": [],
      "source": [
        "# langchain            : High-level orchestration for LLM apps (Chains, Agents, Runnables).\n",
        "# langchain-core       : Core runtime pieces (PromptTemplate, OutputParsers, Runnable*).\n",
        "# langchain-community  : Community integrations (tools/utilities like WikipediaAPIWrapper, SQL, etc.).\n",
        "# langchain-groq       : Groq LLM provider so LangChain can call Groq models.\n",
        "# wikipedia            : Python Wikipedia client used by the WikipediaAPIWrapper.\n",
        "!pip3 -q install langchain langchain-core langchain-community langchain-groq wikipedia python-dotenv\n"
      ]
    },
    {
      "cell_type": "code",
      "execution_count": 2,
      "metadata": {
        "id": "zhiRAXbpltkz"
      },
      "outputs": [],
      "source": [
        "import os\n",
        "from dotenv import load_dotenv\n",
        "\n",
        "# Loading environment variables from .env file\n",
        "load_dotenv()\n",
        "\n",
        "# Checking if GROQ_API_KEY is loaded from .env file\n",
        "if not os.environ.get(\"GROQ_API_KEY\"):\n",
        "    print(\"Warning: GROQ_API_KEY not found in environment variables. Please check your .env file.\")"
      ]
    },
    {
      "cell_type": "code",
      "execution_count": 3,
      "metadata": {
        "id": "GY7giMEQmThn"
      },
      "outputs": [],
      "source": [
        "# LLM provider: LangChain wrapper around the Groq Chat API (you'll pass your GROQ_API_KEY)\n",
        "from langchain_groq import ChatGroq\n",
        "# Prompt templating: build structured prompts (system/human) and inject variables safely\n",
        "from langchain_core.prompts import ChatPromptTemplate\n",
        "# Output parsing: convert model responses to plain strings (or later to structured objects)\n",
        "from langchain_core.output_parsers import StrOutputParser\n",
        "# Runnables: compose steps into pipelines\n",
        "# - RunnableLambda wraps a Python function as a pipeline node\n",
        "# - RunnablePassthrough forwards the input unchanged (handy when wiring dicts)\n",
        "from langchain_core.runnables import RunnableLambda, RunnablePassthrough\n",
        "# Tool decorator: turn a Python function into a standardized \"Tool\"\n",
        "# (name, description, input schema) that Agents can discover and call\n",
        "from langchain_core.tools import tool\n"
      ]
    },
    {
      "cell_type": "markdown",
      "metadata": {
        "id": "IOLABfeFSjET"
      },
      "source": [
        "Use this when we only need one role (usually \"human\" or \"system\") with a variable."
      ]
    },
    {
      "cell_type": "code",
      "execution_count": 4,
      "metadata": {
        "colab": {
          "base_uri": "https://localhost:8080/"
        },
        "id": "rgnWvR2XcW7Y",
        "outputId": "eabfc82c-7450-4fe2-d5e8-f1cb07affd5c"
      },
      "outputs": [
        {
          "name": "stdout",
          "output_type": "stream",
          "text": [
            "In machine learning, embeddings are a way to represent complex data, such as text or images, as numerical vectors in a high-dimensional space. These vectors, called embeddings, capture the semantic meaning and relationships between data points, allowing models to perform tasks like similarity search, clustering, and classification more effectively. For example, word embeddings like Word2Vec or GloVe represent words as vectors where similar words (e.g., \"dog\" and \"cat\") are closer together in the vector space.\n"
          ]
        }
      ],
      "source": [
        "prompt = ChatPromptTemplate.from_template(\"Explain {topic} in one short paragraph.\")\n",
        "# rendered = prompt.format_messages(topic=\"embeddings\")\n",
        "# print(rendered)\n",
        "# 1) Make the LLM\n",
        "llm = ChatGroq(model=\"llama-3.1-8b-instant\", temperature=0)\n",
        "# 2) Build the chain\n",
        "chain = prompt | llm | StrOutputParser()\n",
        "# 3) Run it\n",
        "print(chain.invoke({\"topic\": \"embeddings\"}))\n"
      ]
    },
    {
      "cell_type": "markdown",
      "metadata": {},
      "source": [
        "# Components"
      ]
    },
    {
      "cell_type": "markdown",
      "metadata": {},
      "source": [
        "## A- Models"
      ]
    },
    {
      "cell_type": "markdown",
      "metadata": {},
      "source": [
        "- LangChain provides a standardized format for interacting with different **model as a service providers** and their services.\n",
        "- It supports both the **llm (chat)** based models and **embedding** based models "
      ]
    },
    {
      "cell_type": "markdown",
      "metadata": {},
      "source": [
        "## B- Prompts"
      ]
    },
    {
      "cell_type": "markdown",
      "metadata": {},
      "source": [
        "- LangChain provides us with standardized prompting mechanisms or templates, supporting techniques, suc as:\n",
        "    - Simple one-shot prompt template\n",
        "    - Role based prompt template\n",
        "    - Few-shot prompt template"
      ]
    },
    {
      "cell_type": "markdown",
      "metadata": {},
      "source": [
        "## C- Chains"
      ]
    },
    {
      "cell_type": "markdown",
      "metadata": {},
      "source": [
        "- LangChain offers use to work with two forms of chains:\n",
        "    - Sequential chains\n",
        "    - Parallel chains\n",
        "    - Conditional chains"
      ]
    },
    {
      "cell_type": "markdown",
      "metadata": {
        "id": "x4PAhUDLnHPX"
      },
      "source": [
        "### 1- Single-Step Chain (LLM only; fastest path)\n",
        "\n",
        "Use this when the problem can be solved in one shot (no tools).\n",
        "You can “flip on” CoT/ToT just by changing the prompt."
      ]
    },
    {
      "cell_type": "code",
      "execution_count": 5,
      "metadata": {
        "colab": {
          "base_uri": "https://localhost:8080/"
        },
        "id": "wjc8qLF_mYJ2",
        "outputId": "2cdeafff-d650-4495-f171-f0bffdfd475c"
      },
      "outputs": [
        {
          "name": "stdout",
          "output_type": "stream",
          "text": [
            "Embeddings: Representing words or objects as numerical vectors to capture their semantic meaning and relationships in a high-dimensional space.\n"
          ]
        }
      ],
      "source": [
        "# --- 1) Pick an LLM backend (Groq) ---\n",
        "# ChatGroq is LangChain’s chat interface for Groq models.\n",
        "#   model        : the exact Groq model id (e.g., \"llama-3.1-8b-instant\")\n",
        "#   temperature  : 0 = more deterministic (good for teaching/evals); higher = more creative\n",
        "# llm = ChatGroq(model=\"llama-3.1-8b-instant\", temperature=0)\n",
        "\n",
        "# --- 2) Build a chat-style prompt template ---\n",
        "# ChatPromptTemplate.from_messages([...]) takes a list of (role, template) pairs.\n",
        "# Roles can be: \"system\" (behavior), \"human\" (user input), \"ai\" (assistant),\n",
        "# and you can include placeholders like {topic} that will be filled at runtime.\n",
        "base_prompt = ChatPromptTemplate.from_messages([\n",
        "    (\"system\", \"You are a concise, friendly tutor.\"),\n",
        "    (\"human\",  \"Explain {topic} in 10-20 words for a beginner.\")\n",
        "])\n",
        "\n",
        "# --- 3) Compose a Chain with the | (pipe) operator ---\n",
        "# In LangChain, objects that implement the Runnable interface can be chained:\n",
        "#   prompt -> llm -> output_parser\n",
        "# The pipe (|) means: take output of the left node and feed to the right node.\n",
        "# StrOutputParser() converts the model’s AIMessage to a plain string (resp.content).\n",
        "single_step_chain = base_prompt | llm | StrOutputParser()\n",
        "\n",
        "\n",
        "# --- 4) Run the chain ---\n",
        "# .invoke({...}) executes the pipeline once.\n",
        "# You pass a dict with values for any {placeholders} used in the prompt.\n",
        "# print(single_step_chain.invoke({\"topic\": \"Retrieval-Augmented Generation\"}))\n",
        "print(single_step_chain.invoke({\"topic\": \"Embeddings\"}))\n"
      ]
    },
    {
      "cell_type": "code",
      "execution_count": 6,
      "metadata": {
        "colab": {
          "base_uri": "https://localhost:8080/"
        },
        "id": "gzSfUHMknPh_",
        "outputId": "a911776b-77d4-46a5-cb23-65cfe7fdb93a"
      },
      "outputs": [
        {
          "name": "stdout",
          "output_type": "stream",
          "text": [
            "**(Paths)**\n",
            "\n",
            "1. **Flashcard Method**: Create physical or digital flashcards with the new vocabulary word on one side and its meaning on the other. Review the cards regularly, covering the meaning side to test recall.\n",
            "2. **Association Method**: Connect new vocabulary words to personal experiences, emotions, or memories. Create mental images or stories that associate the word with its meaning.\n",
            "3. **Mnemonics Method**: Use acronyms, rhymes, or mind maps to create memorable associations between the new vocabulary word and its meaning. For example, create a sentence using the first letter of each word.\n",
            "\n",
            "**(Comparison)**\n",
            "\n",
            "- **Flashcard Method**: Effective for large amounts of vocabulary, but may become repetitive and boring.\n",
            "- **Association Method**: More engaging and memorable, but may not work for everyone, especially those with difficulty recalling personal experiences.\n",
            "- **Mnemonics Method**: Can be creative and fun, but may require more time and effort to develop.\n",
            "\n",
            "**(Chosen)**\n",
            "\n",
            "The best strategy is the **Association Method**. This method is more engaging and memorable, and can be tailored to individual learning styles. By connecting new vocabulary words to personal experiences, emotions, or memories, learners can create a stronger emotional connection to the words, making them easier to recall.\n",
            "\n",
            "**(Answer)**\n",
            "\n",
            "The Association Method is the most effective strategy for remembering new vocabulary.\n"
          ]
        }
      ],
      "source": [
        "# # CoT flavor (ask the model to show brief steps)\n",
        "# cot_prompt = ChatPromptTemplate.from_messages([\n",
        "#     (\"system\", \"Think step-by-step; keep the reasoning brief.\"),\n",
        "#     (\"human\",  \"Solve: {problem}. Show your reasoning, then give the final answer clearly.\")\n",
        "# ])\n",
        "# cot_chain = cot_prompt | llm | StrOutputParser()\n",
        "# print(cot_chain.invoke({\"problem\": \"Is 17 prime? Justify briefly.\"}))\n",
        "\n",
        "# ToT flavor (multiple candidate paths, choose best)\n",
        "tot_prompt = ChatPromptTemplate.from_messages([\n",
        "    (\"system\", \"Generate 3 solution paths, compare them, choose the best, then answer.\"),\n",
        "    (\"human\",  \"Task: {task}. Output format: (Paths)->(Comparison)->(Chosen)->(Answer).\")\n",
        "])\n",
        "tot_chain = tot_prompt | llm | StrOutputParser()\n",
        "print(tot_chain.invoke({\"task\": \"Plan 3 short strategies to remember new vocabulary.\"}))\n"
      ]
    },
    {
      "cell_type": "markdown",
      "metadata": {
        "id": "YdifEZ4roh5i"
      },
      "source": [
        "### 2- Multi-Step Chain (two LLM calls; still fixed)\n",
        "\n",
        "When you want a predictable pipeline (e.g., “clarify → answer”).\n",
        "Each extra LLM step adds a little latency, but everything is predetermined."
      ]
    },
    {
      "cell_type": "code",
      "execution_count": 7,
      "metadata": {
        "colab": {
          "base_uri": "https://localhost:8080/"
        },
        "id": "4_zStf9PoRo0",
        "outputId": "9921b6d9-c086-4a05-b69f-58eb97fd6e36"
      },
      "outputs": [
        {
          "name": "stdout",
          "output_type": "stream",
          "text": [
            "Here are 3 key points about the RAG system:\n",
            "\n",
            "* **RAG categorization**: The RAG system categorizes tasks, projects, or students into three colors: Red (at risk or failed to meet expectations), Amber (making progress but requires improvement), and Green (performing well and meeting expectations).\n",
            "* **Application in various settings**: The RAG system can be applied in various settings, including educational settings (student progress tracking, classroom behavior), project management, and business to track progress and identify areas that require attention.\n",
            "* **Benefits of RAG**: The RAG system provides clear communication, early intervention, and motivation, helping educators and students work together to track progress, identify areas for improvement, and celebrate successes.\n"
          ]
        }
      ],
      "source": [
        "# Step A: clarify the user's query\n",
        "clarify_prompt = ChatPromptTemplate.from_messages([\n",
        "    (\"system\", \"Rewrite the user query to be precise and unambiguous.\"),\n",
        "    (\"human\",  \"{q}\")\n",
        "])\n",
        "clarify = clarify_prompt | llm | StrOutputParser()\n",
        "\n",
        "# Step B: answer clearly using the clarified query\n",
        "answer_prompt = ChatPromptTemplate.from_messages([\n",
        "    (\"system\", \"Answer clearly in 3 bullet points.\"),\n",
        "    (\"human\",  \"{q}\")\n",
        "])\n",
        "answer = answer_prompt | llm | StrOutputParser()\n",
        "\n",
        "# Pipe them together: q -> clarify -> answer\n",
        "multi_step_chain = (\n",
        "    {\"q\": RunnablePassthrough()}                                   # pass raw input\n",
        "    | clarify                                                       # LLM call #1\n",
        "    | (lambda clarified: {\"q\": f\"Topic: {clarified}\"})              # map to next input\n",
        "    | answer                                                        # LLM call #2\n",
        ")\n",
        "\n",
        "print(multi_step_chain.invoke(\"tell me about RAG and give classroom examples\"))\n"
      ]
    },
    {
      "cell_type": "markdown",
      "metadata": {
        "id": "t9CQOkDYo0tK"
      },
      "source": [
        "### 3- A Chain that uses a Tool (predetermined call order)\n",
        "\n",
        "Here the pipeline always uses the tool (no LLM “deciding”).\n",
        "We’ll fetch a short Wikipedia summary (tool) and then summarize it (LLM). This remains a Chain because the order is fixed."
      ]
    },
    {
      "cell_type": "code",
      "execution_count": 8,
      "metadata": {
        "colab": {
          "base_uri": "https://localhost:8080/"
        },
        "id": "mWZGwG4To0JK",
        "outputId": "e0a8c9fb-6b67-416f-fb0d-2f849bc80328"
      },
      "outputs": [
        {
          "name": "stdout",
          "output_type": "stream",
          "text": [
            "Here are 2 crisp bullet points summarizing the Eiffel Tower:\n",
            "\n",
            "• The Eiffel Tower is a wrought-iron lattice tower in Paris, France, named after engineer Gustave Eiffel, who designed and built it from 1887 to 1889 as the centrepiece of the 1889 World's Fair.\n",
            "• The tower has become a global cultural icon of France, attracting 5,889,000 visitors in 2022, and is the most visited monument with an entrance fee in the world.\n"
          ]
        }
      ],
      "source": [
        "# Simple Python function to fetch from Wikipedia (no API key needed)\n",
        "from langchain_community.utilities import WikipediaAPIWrapper\n",
        "wiki = WikipediaAPIWrapper(lang=\"en\", top_k_results=1, doc_content_chars_max=800)\n",
        "\n",
        "def wiki_fetch(topic: str) -> str:\n",
        "    return wiki.run(topic)\n",
        "\n",
        "# Wrap the python function as a Runnable\n",
        "fetch_node = RunnableLambda(lambda topic: wiki_fetch(topic))\n",
        "\n",
        "# LLM summarizer node\n",
        "summarize_prompt = ChatPromptTemplate.from_messages([\n",
        "    (\"system\", \"Summarize the given text in 2 crisp bullet points.\"),\n",
        "    (\"human\",  \"{text}\")\n",
        "])\n",
        "summarizer = summarize_prompt | llm | StrOutputParser()\n",
        "# Fixed chain: (topic) -> wiki_fetch -> summarizer\n",
        "wiki_chain = (\n",
        "    {\"text\": fetch_node}  # takes the input string (topic) and produces text\n",
        "    | summarizer\n",
        ")\n",
        "\n",
        "print(wiki_chain.invoke(\"Eiffel Tower\"))\n"
      ]
    },
    {
      "cell_type": "markdown",
      "metadata": {},
      "source": [
        "## D- Agents"
      ]
    },
    {
      "cell_type": "markdown",
      "metadata": {
        "id": "zHCPvAngo95x"
      },
      "source": [
        "### 4- Agent (dynamic tool use; LLM decides order)\n",
        "\n",
        "Now we give the LLM a toolbox and let it decide which tool to use and when.\n",
        "We’ll create two tools: multiply and wiki_search. The agent will pick the order."
      ]
    },
    {
      "cell_type": "code",
      "execution_count": 9,
      "metadata": {
        "colab": {
          "base_uri": "https://localhost:8080/"
        },
        "id": "HAEAQs-Vo9EP",
        "outputId": "5381a20d-457b-4392-9d78-6a39bbfbfef5"
      },
      "outputs": [
        {
          "name": "stdout",
          "output_type": "stream",
          "text": [
            "\n",
            "\n",
            "\u001b[1m> Entering new AgentExecutor chain...\u001b[0m\n",
            "\u001b[32;1m\u001b[1;3m\n",
            "Invoking: `multiply` with `{'a': 12, 'b': 7}`\n",
            "\n",
            "\n",
            "\u001b[0m\u001b[36;1m\u001b[1;3m84\u001b[0m\u001b[32;1m\u001b[1;3m\n",
            "Invoking: `wiki_search` with `{'query': 'Pakistan'}`\n",
            "\n",
            "\n",
            "\u001b[0m\u001b[33;1m\u001b[1;3mPage: Pakistan\n",
            "Summary: Pakistan, officially the Islamic Republic of Pakistan, is a country in South Asia. It is the fifth-most populous country, with a population of over 241.5 million, having the second-largest Muslim population as of 2023. Islamabad is the nation's capital, while Karachi is its largest city and financial centre. Pakistan is the 33rd-largest country by area. Bounded by the Arabian Sea on the south, the Gulf of Oman on the southwest, and the Sir Creek on the southeast, it shares land borders with India to the east; Afghanistan to the west; Iran to the southwest; and China to the northeast. It shares a maritime border with Oman in the Gulf of Oman, and is separated from Tajikistan in the northwest by Afghanistan's narrow Wakhan Corridor.\n",
            "Pakistan is the site of several anc\u001b[0m\u001b[32;1m\u001b[1;3mI'll stop there, as the summary is already 50 words.\u001b[0m\n",
            "\n",
            "\u001b[1m> Finished chain.\u001b[0m\n",
            "I'll stop there, as the summary is already 50 words.\n"
          ]
        }
      ],
      "source": [
        "from langchain_core.prompts import MessagesPlaceholder\n",
        "from langchain_core.tools import tool\n",
        "from langchain.agents import create_tool_calling_agent, AgentExecutor\n",
        "\n",
        "@tool\n",
        "def multiply(a: int, b: int) -> int:\n",
        "    \"Multiply two integers a and b.\"\n",
        "    return a * b\n",
        "\n",
        "@tool\n",
        "def wiki_search(query: str) -> str:\n",
        "    \"Search Wikipedia and return a short summary.\"\n",
        "    return wiki.run(query)\n",
        "\n",
        "tools = [multiply, wiki_search]\n",
        "\n",
        "agent_prompt = ChatPromptTemplate.from_messages([\n",
        "    (\"system\",\n",
        "     \"You are a helpful assistant. Use ONLY the provided tools when needed. \"\n",
        "     \"If math is required, use the 'multiply' tool. If facts are needed, use the 'wiki_search' tool \"\n",
        "     \"and include 'Source: Wikipedia' when summarizing the result.\"),\n",
        "    (\"human\", \"{input}\"),\n",
        "    # REQUIRED for agents:\n",
        "    MessagesPlaceholder(\"agent_scratchpad\"),\n",
        "])\n",
        "\n",
        "agent_runnable = create_tool_calling_agent(llm=llm, tools=tools, prompt=agent_prompt)\n",
        "\n",
        "agent = AgentExecutor(agent=agent_runnable, tools=tools, verbose=True, max_iterations=2) # Increased max_iterations\n",
        "\n",
        "q = \"What is 12*7, and give 50 words about Pakistan?\"\n",
        "print(agent.invoke({\"input\": q})[\"output\"])"
      ]
    },
    {
      "cell_type": "markdown",
      "metadata": {
        "id": "WNb5q17NqIxo"
      },
      "source": [
        "Switch the agent’s reasoning style (ReAct vs Tool-Calling)\n",
        "\n",
        "Tool-calling (above) is robust (uses model’s function calling).\n",
        "\n",
        "ReAct shows clear Thought → Action → Observation traces"
      ]
    },
    {
      "cell_type": "code",
      "execution_count": 10,
      "metadata": {
        "colab": {
          "base_uri": "https://localhost:8080/",
          "height": 320,
          "referenced_widgets": [
            "393c191fb7564035baa7dbe91782d348",
            "78d419585d504a338f1eca019dbf24b0",
            "d1fcbb9868bd4f328d7f99da72a19272",
            "2b4226eb653246a280a7a58bbb13c452",
            "4a8a89ae1bde40a7aafd49f95985eee7",
            "5059578c11694d1e8b2df1c8e029e17e",
            "9307b42bb0a743279e9289992eafd1a2",
            "1ca56339201644a5a3e8d7a726bfb3c7",
            "ac46deabe86d43999cd588f31a328029",
            "b27c0ce0e07a43a1950a9785ddd217d6",
            "76903bb4aab74bc898aed44a955c235c",
            "1fef603b400b4c55a4b9309da8b175bd",
            "31d18e1334214fd9888b8ac35f299129",
            "86a4c36bb0b64c728119c88c7d33d298",
            "b8bde189df804f78b514e8caa5f932fe",
            "2838c75456ee4e35841c8cc9daf48f8b",
            "2012b2f0ff074ccbb986c85ecd88c32e",
            "b0fea7877f7a465c8da8526168f31645",
            "49f4b19fcc85430db3cb53f6bf21b888",
            "652d273801ed4e79b48480c8055f30cb",
            "ff2135e636104355a67791c4df8d4673",
            "f23503f3c77345059b47cb8703036ea0",
            "9a79aac892844dd88463341533b010e7",
            "05d2f2ee208041a59bc40be0eb7d3626",
            "6e223345b00c4641912993e7a7453486",
            "e439f8b903cd4dc7aa657d018f60f952",
            "b0924f46d8a347eda73aa73001f16d0b",
            "5aaefeb74c25411d9a2901c1f1758efe",
            "411dc89f84884b55803f2195928f27e6",
            "193c3f2a27304222a2d9f9883357fc50",
            "380b2f762adc459fb3af423f51d05b26",
            "98d58907e7fe4876b31ae61559d4b3f0",
            "e7dd554e3c3b4056b76dd25a8d939856",
            "7e5f5ea812334bf983c132920e2d78b5",
            "9d44da8a868941e9a1b614ff02757e13",
            "c9aca5d36c9a4d8782bd055c25b52b92",
            "d39b9e0342f043759473f0d696cb2098",
            "0bc07d3df96c4f0a8aaee0b1d293ccdf",
            "3405bd196b6641a595c19cc6bf4dcec9",
            "7a83a859a42a4b1baa6783cb18ec398c",
            "e71de0129c074bf6bd76d843b73bec44",
            "a879308c7cf846c0bfdb470e27b29947",
            "e90244ef2f9346708f7f8987b6726e87",
            "cd4ab2fc67994ca197fdcdbf9fc75345",
            "c94526b00df046258b47305c6de8efef",
            "78d2b86cc6b947e69693803f72e7492d",
            "6ae72a91ee4149e99e70393331cf2eac",
            "e7c2cffc34da44c5b651e667a6313273",
            "4b2e14c8aa9545f2879aef1d035cee8e",
            "34b0e21b31d54f7eae1fcd7a409c2dca",
            "6652af068f83423dbae763fc7f6a4ce3",
            "d2afb21b6bce46e99a3217d1d09e072b",
            "151d93aaf94a4d618ab7a6c643ef1df7",
            "da3c20d719254465945b449139572e97",
            "42212fb7a741457f9bbcde37cc41c4e4"
          ]
        },
        "id": "wIfyvo7aovIh",
        "outputId": "1c5af8c4-b7fd-4845-e428-4e40f3fdfeda"
      },
      "outputs": [
        {
          "name": "stdout",
          "output_type": "stream",
          "text": [
            "Pakistan is a South Asian country with a population of over 241.5 million, sharing borders with several countries, and boasting a rich history influenced by ancient cultures and empires.\n"
          ]
        }
      ],
      "source": [
        "from langchain_core.documents import Document\n",
        "from langchain.chains.summarize import load_summarize_chain\n",
        "\n",
        "text = \"\"\"Pakistan,[e] officially the Islamic Republic of Pakistan,[f] is a country in South Asia. It is the fifth-most populous country, with a population of over 241.5 million,[c] having the second-largest Muslim population as of 2023. Islamabad is the nation's capital, while Karachi is its largest city and financial centre. Pakistan is the 33rd-largest country by area. Bounded by the Arabian Sea on the south, the Gulf of Oman on the southwest, and the Sir Creek on the southeast, it shares land borders with India to the east; Afghanistan to the west; Iran to the southwest; and China to the northeast. It shares a maritime border with Oman in the Gulf of Oman, and is separated from Tajikistan in the northwest by Afghanistan's narrow Wakhan Corridor.\n",
        "\n",
        "Pakistan is the site of several ancient cultures, including the 8,500-year-old Neolithic site of Mehrgarh in Balochistan, the Indus Valley Civilisation of the Bronze Age,[8] and the ancient Gandhara civilisation.[9] The regions that compose the modern state of Pakistan were the realm of multiple empires and dynasties, including the Achaemenid, the Maurya, the Kushan, the Gupta;[10] the Umayyad Caliphate in its southern regions, the Hindu Shahis, the Ghaznavids, the Delhi Sultanate, the Samma, the Shah Miris, the Mughals,[11] and finally, the British Raj from 1858 to 1947. \"\"\"\n",
        "docs = [Document(page_content=text)]\n",
        "\n",
        "# Uses default map_reduce prompts under the hood\n",
        "sum_chain = load_summarize_chain(llm, chain_type=\"map_reduce\")\n",
        "result = sum_chain.invoke({\"input_documents\": docs})\n",
        "print(result[\"output_text\"])\n"
      ]
    },
    {
      "cell_type": "code",
      "execution_count": 11,
      "metadata": {
        "colab": {
          "base_uri": "https://localhost:8080/"
        },
        "id": "FINhOJ2B2LKB",
        "outputId": "04aa8c60-eaa5-45f5-8251-b03b6193767c"
      },
      "outputs": [
        {
          "name": "stdout",
          "output_type": "stream",
          "text": [
            "Needs variables: ['text']\n",
            "### Meaning\n",
            "$meaning_bulleted_summary\n",
            "- The sentence contains many errors.\n",
            "- It is unclear what the sentence is trying to convey.\n",
            "\n",
            "### Round 1\n",
            "    ## Draft\n",
            "        ``This sentence have many mistake and not very clear what I means.``\n",
            "    ## Reflection\n",
            "        The sentence is unclear and contains grammatical errors. It seems to be saying that the sentence itself has mistakes and is unclear, but the wording is confusing. To improve it, we need to rephrase it in a way that clearly conveys the intended meaning.\n",
            "\n",
            "### Round 2\n",
            "    ## Draft\n",
            "        ``The sentence contains many errors and is unclear in its meaning.``\n",
            "    ## Reflection\n",
            "        The revised sentence is clearer, but it still doesn't fully convey the intended meaning. The phrase \"in its meaning\" is a bit awkward. We could rephrase it to make it more concise and natural-sounding.\n",
            "\n",
            "### Round 3\n",
            "    ## Draft\n",
            "        ``The sentence is unclear and contains several errors.``\n",
            "    ## Reflection\n",
            "        This revised sentence is more concise and clear. However, the word \"several\" is not necessary, as \"errors\" already implies a plural quantity. We could simplify the sentence further to make it even more readable.\n",
            "\n",
            "### Final Draft\n",
            "    ``The sentence is unclear and contains errors.``\n",
            "This final draft is clear, concise, and free of unnecessary words. It effectively conveys the intended meaning without being confusing or awkward.\n"
          ]
        }
      ],
      "source": [
        "from langchain import hub\n",
        "from langchain_core.output_parsers import StrOutputParser\n",
        "\n",
        "# Pull a ready-made editing prompt from the Hub\n",
        "prompt = hub.pull(\"bagatur/mattschumer-professional-editor\")  # no custom prompt authored by us\n",
        "print(\"Needs variables:\", prompt.input_variables)              # e.g. ['input'] or ['text']\n",
        "\n",
        "# Build a simple chain: Hub Prompt → LLM → string\n",
        "edit_chain = prompt | llm | StrOutputParser()\n",
        "\n",
        "sample_text = \"This sentence have many mistake and not very clear what I means.\"\n",
        "# pass in the right key from prompt.input_variables, usually 'input' or 'text'\n",
        "print(edit_chain.invoke({\"text\": sample_text}))"
      ]
    },
    {
      "cell_type": "code",
      "execution_count": 12,
      "metadata": {
        "colab": {
          "base_uri": "https://localhost:8080/"
        },
        "id": "MrF-EWd_K9ag",
        "outputId": "2b7acc2b-7a84-4331-ec9e-07e21e30ab78"
      },
      "outputs": [
        {
          "name": "stdout",
          "output_type": "stream",
          "text": [
            "Needs variables: ['text']\n",
            "Predicted label: The correct answer is: technology. \n",
            "\n",
            "This is because the text mentions a specific technology-related term, \"GPU architecture,\" which is related to computer hardware and its applications in accelerating AI workloads.\n"
          ]
        }
      ],
      "source": [
        "from langchain import hub\n",
        "from langchain_core.output_parsers import StrOutputParser\n",
        "\n",
        "clf_prompt = hub.pull(\"hwchase17/classify-article\")\n",
        "print(\"Needs variables:\", clf_prompt.input_variables)  # usually ['text']\n",
        "\n",
        "clf_chain = clf_prompt | llm | StrOutputParser()\n",
        "\n",
        "article = \"NVIDIA unveiled a new GPU architecture aimed at accelerating AI workloads...\"\n",
        "label = clf_chain.invoke({\"text\": article})\n",
        "print(\"Predicted label:\", label)\n"
      ]
    },
    {
      "cell_type": "code",
      "execution_count": 13,
      "metadata": {
        "colab": {
          "base_uri": "https://localhost:8080/"
        },
        "id": "dghnYsb6LEpQ",
        "outputId": "0f744cd0-976a-4e4f-def9-ee5f2c377bd1"
      },
      "outputs": [
        {
          "name": "stdout",
          "output_type": "stream",
          "text": [
            "['text']\n"
          ]
        }
      ],
      "source": [
        "from langchain import hub\n",
        "tmpl = hub.pull(\"bagatur/mattschumer-professional-editor\")\n",
        "print(tmpl.input_variables)  # then pass a dict matching those keys\n"
      ]
    },
    {
      "cell_type": "markdown",
      "metadata": {
        "id": "47NY0sdstXW8"
      },
      "source": [
        "### 5- Decide at runtime: Chain or Agent?\n",
        "\n",
        "Use a tiny router chain to decide if the query is simple (chain) or needs tools (agent).\n",
        "(For class demos, this shows how to pick the right path.)"
      ]
    },
    {
      "cell_type": "code",
      "execution_count": 14,
      "metadata": {
        "colab": {
          "base_uri": "https://localhost:8080/"
        },
        "id": "5WRyRunsQ39-",
        "outputId": "9cfe813c-f3c7-43c8-a361-7c53292e0ca5"
      },
      "outputs": [
        {
          "name": "stdout",
          "output_type": "stream",
          "text": [
            "route  needs_tools\n",
            "needs_tools\n",
            " Using AGENT for: 'What is 9*13 and a fact about Islamabad?'\n",
            "\n",
            "\n",
            "\u001b[1m> Entering new AgentExecutor chain...\u001b[0m\n",
            "\u001b[32;1m\u001b[1;3m\n",
            "Invoking: `multiply` with `{'a': 9, 'b': 13}`\n",
            "\n",
            "\n",
            "\u001b[0m\u001b[36;1m\u001b[1;3m117\u001b[0m\u001b[32;1m\u001b[1;3m\n",
            "Invoking: `wiki_search` with `{'query': 'Islamabad'}`\n",
            "\n",
            "\n",
            "\u001b[0m\u001b[33;1m\u001b[1;3mPage: Islamabad\n",
            "Summary: Islamabad ( ; Urdu: اسلام‌آباد, romanized: Islāmābād, lit. 'City of Islam', [ɪsˈlɑːmɑːbɑːd] ) is the capital city of Pakistan. It is the country's tenth-most populous city with a population of over 1.1 million,  and is federally administered by the Pakistani government as part of the Islamabad Capital Territory. Built as a planned city in the 1960s and established in 1967, it replaced Karachi as Pakistan's national capital.\n",
            "The Greek architect Constantinos Apostolou Doxiadis developed Islamabad's master plan, in which he divided it into eight zones; the city comprises administrative, diplomatic enclave, residential areas, educational and industrial sectors, commercial areas, as well as rural and green areas administered by the Islamabad Metropolitan Corporation wit\u001b[0m\u001b[32;1m\u001b[1;3mSource: Wikipedia\u001b[0m\n",
            "\n",
            "\u001b[1m> Finished chain.\u001b[0m\n",
            "Source: Wikipedia\n"
          ]
        }
      ],
      "source": [
        "# Router prompt: return either \"simple\" or \"needs_tools\"\n",
        "router_prompt = ChatPromptTemplate.from_messages([\n",
        "    (\"system\",\n",
        "     \"Decide routing based on query complexity:\\n\"\n",
        "     \"- Output 'simple' for: definitions, explanations, rewrites, translations\\n\"\n",
        "     \"- Output 'needs_tools' for: math calculations, current events, specific facts about places/people, data lookups\\n\"\n",
        "     \"Examples:\\n\"\n",
        "     \"- 'Explain machine learning' → simple\\n\"\n",
        "     \"- 'What is 15 * 23?' → needs_tools\\n\"\n",
        "     \"- 'Facts about Tokyo' → needs_tools\\n\"\n",
        "     \"Only respond with 'simple' or 'needs_tools'.\"),\n",
        "    (\"human\", \"{query}\")\n",
        "])\n",
        "router_chain = router_prompt | llm | StrOutputParser()\n",
        "\n",
        "def run_app(user_query: str):\n",
        "    route = router_chain.invoke({\"query\": user_query}).strip().lower()\n",
        "    print(\"route \", route)\n",
        "    if \"needs_tools\" in route:\n",
        "        print(f\" Using AGENT for: '{user_query}'\")\n",
        "        # Directly invoke the agent executor\n",
        "        return agent.invoke({\"input\": user_query})[\"output\"]\n",
        "    else:\n",
        "        print(f\" Using CHAIN for: '{user_query}'\")\n",
        "        return single_step_chain.invoke({\"topic\": user_query})\n",
        "\n",
        "# print(run_app(\"Explain embeddings in a paragraph.\"))             # likely chain\n",
        "print(run_app(\"What is 9*13 and a fact about Islamabad?\"))      # likely agent"
      ]
    },
    {
      "cell_type": "markdown",
      "metadata": {
        "id": "2quG_FK2Rocr"
      },
      "source": [
        "## E- Indexes"
      ]
    },
    {
      "cell_type": "markdown",
      "metadata": {},
      "source": [
        "Indexes in LangChain consists of the following components:\n",
        "- Document Loader\n",
        "- Text Splitter\n",
        "- Vector Store\n",
        "- Retrievers\n"
      ]
    },
    {
      "cell_type": "markdown",
      "metadata": {},
      "source": [
        "## F- Memory"
      ]
    },
    {
      "cell_type": "markdown",
      "metadata": {},
      "source": [
        "LangChain offers the following types of memory:\n",
        "- ConversationBufferMemory\n",
        "- ConversationBufferWindowMemory\n",
        "- Summarizer-Based Memory\n",
        "- Custom Memory"
      ]
    }
  ],
  "metadata": {
    "colab": {
      "provenance": []
    },
    "kernelspec": {
      "display_name": "Python 3",
      "name": "python3"
    },
    "language_info": {
      "name": "python"
    },
    "widgets": {
      "application/vnd.jupyter.widget-state+json": {
        "05d2f2ee208041a59bc40be0eb7d3626": {
          "model_module": "@jupyter-widgets/controls",
          "model_module_version": "1.5.0",
          "model_name": "HTMLModel",
          "state": {
            "_dom_classes": [],
            "_model_module": "@jupyter-widgets/controls",
            "_model_module_version": "1.5.0",
            "_model_name": "HTMLModel",
            "_view_count": null,
            "_view_module": "@jupyter-widgets/controls",
            "_view_module_version": "1.5.0",
            "_view_name": "HTMLView",
            "description": "",
            "description_tooltip": null,
            "layout": "IPY_MODEL_5aaefeb74c25411d9a2901c1f1758efe",
            "placeholder": "​",
            "style": "IPY_MODEL_411dc89f84884b55803f2195928f27e6",
            "value": "merges.txt: 100%"
          }
        },
        "0bc07d3df96c4f0a8aaee0b1d293ccdf": {
          "model_module": "@jupyter-widgets/base",
          "model_module_version": "1.2.0",
          "model_name": "LayoutModel",
          "state": {
            "_model_module": "@jupyter-widgets/base",
            "_model_module_version": "1.2.0",
            "_model_name": "LayoutModel",
            "_view_count": null,
            "_view_module": "@jupyter-widgets/base",
            "_view_module_version": "1.2.0",
            "_view_name": "LayoutView",
            "align_content": null,
            "align_items": null,
            "align_self": null,
            "border": null,
            "bottom": null,
            "display": null,
            "flex": null,
            "flex_flow": null,
            "grid_area": null,
            "grid_auto_columns": null,
            "grid_auto_flow": null,
            "grid_auto_rows": null,
            "grid_column": null,
            "grid_gap": null,
            "grid_row": null,
            "grid_template_areas": null,
            "grid_template_columns": null,
            "grid_template_rows": null,
            "height": null,
            "justify_content": null,
            "justify_items": null,
            "left": null,
            "margin": null,
            "max_height": null,
            "max_width": null,
            "min_height": null,
            "min_width": null,
            "object_fit": null,
            "object_position": null,
            "order": null,
            "overflow": null,
            "overflow_x": null,
            "overflow_y": null,
            "padding": null,
            "right": null,
            "top": null,
            "visibility": null,
            "width": null
          }
        },
        "151d93aaf94a4d618ab7a6c643ef1df7": {
          "model_module": "@jupyter-widgets/controls",
          "model_module_version": "1.5.0",
          "model_name": "ProgressStyleModel",
          "state": {
            "_model_module": "@jupyter-widgets/controls",
            "_model_module_version": "1.5.0",
            "_model_name": "ProgressStyleModel",
            "_view_count": null,
            "_view_module": "@jupyter-widgets/base",
            "_view_module_version": "1.2.0",
            "_view_name": "StyleView",
            "bar_color": null,
            "description_width": ""
          }
        },
        "193c3f2a27304222a2d9f9883357fc50": {
          "model_module": "@jupyter-widgets/base",
          "model_module_version": "1.2.0",
          "model_name": "LayoutModel",
          "state": {
            "_model_module": "@jupyter-widgets/base",
            "_model_module_version": "1.2.0",
            "_model_name": "LayoutModel",
            "_view_count": null,
            "_view_module": "@jupyter-widgets/base",
            "_view_module_version": "1.2.0",
            "_view_name": "LayoutView",
            "align_content": null,
            "align_items": null,
            "align_self": null,
            "border": null,
            "bottom": null,
            "display": null,
            "flex": null,
            "flex_flow": null,
            "grid_area": null,
            "grid_auto_columns": null,
            "grid_auto_flow": null,
            "grid_auto_rows": null,
            "grid_column": null,
            "grid_gap": null,
            "grid_row": null,
            "grid_template_areas": null,
            "grid_template_columns": null,
            "grid_template_rows": null,
            "height": null,
            "justify_content": null,
            "justify_items": null,
            "left": null,
            "margin": null,
            "max_height": null,
            "max_width": null,
            "min_height": null,
            "min_width": null,
            "object_fit": null,
            "object_position": null,
            "order": null,
            "overflow": null,
            "overflow_x": null,
            "overflow_y": null,
            "padding": null,
            "right": null,
            "top": null,
            "visibility": null,
            "width": null
          }
        },
        "1ca56339201644a5a3e8d7a726bfb3c7": {
          "model_module": "@jupyter-widgets/base",
          "model_module_version": "1.2.0",
          "model_name": "LayoutModel",
          "state": {
            "_model_module": "@jupyter-widgets/base",
            "_model_module_version": "1.2.0",
            "_model_name": "LayoutModel",
            "_view_count": null,
            "_view_module": "@jupyter-widgets/base",
            "_view_module_version": "1.2.0",
            "_view_name": "LayoutView",
            "align_content": null,
            "align_items": null,
            "align_self": null,
            "border": null,
            "bottom": null,
            "display": null,
            "flex": null,
            "flex_flow": null,
            "grid_area": null,
            "grid_auto_columns": null,
            "grid_auto_flow": null,
            "grid_auto_rows": null,
            "grid_column": null,
            "grid_gap": null,
            "grid_row": null,
            "grid_template_areas": null,
            "grid_template_columns": null,
            "grid_template_rows": null,
            "height": null,
            "justify_content": null,
            "justify_items": null,
            "left": null,
            "margin": null,
            "max_height": null,
            "max_width": null,
            "min_height": null,
            "min_width": null,
            "object_fit": null,
            "object_position": null,
            "order": null,
            "overflow": null,
            "overflow_x": null,
            "overflow_y": null,
            "padding": null,
            "right": null,
            "top": null,
            "visibility": null,
            "width": null
          }
        },
        "1fef603b400b4c55a4b9309da8b175bd": {
          "model_module": "@jupyter-widgets/controls",
          "model_module_version": "1.5.0",
          "model_name": "HBoxModel",
          "state": {
            "_dom_classes": [],
            "_model_module": "@jupyter-widgets/controls",
            "_model_module_version": "1.5.0",
            "_model_name": "HBoxModel",
            "_view_count": null,
            "_view_module": "@jupyter-widgets/controls",
            "_view_module_version": "1.5.0",
            "_view_name": "HBoxView",
            "box_style": "",
            "children": [
              "IPY_MODEL_31d18e1334214fd9888b8ac35f299129",
              "IPY_MODEL_86a4c36bb0b64c728119c88c7d33d298",
              "IPY_MODEL_b8bde189df804f78b514e8caa5f932fe"
            ],
            "layout": "IPY_MODEL_2838c75456ee4e35841c8cc9daf48f8b"
          }
        },
        "2012b2f0ff074ccbb986c85ecd88c32e": {
          "model_module": "@jupyter-widgets/base",
          "model_module_version": "1.2.0",
          "model_name": "LayoutModel",
          "state": {
            "_model_module": "@jupyter-widgets/base",
            "_model_module_version": "1.2.0",
            "_model_name": "LayoutModel",
            "_view_count": null,
            "_view_module": "@jupyter-widgets/base",
            "_view_module_version": "1.2.0",
            "_view_name": "LayoutView",
            "align_content": null,
            "align_items": null,
            "align_self": null,
            "border": null,
            "bottom": null,
            "display": null,
            "flex": null,
            "flex_flow": null,
            "grid_area": null,
            "grid_auto_columns": null,
            "grid_auto_flow": null,
            "grid_auto_rows": null,
            "grid_column": null,
            "grid_gap": null,
            "grid_row": null,
            "grid_template_areas": null,
            "grid_template_columns": null,
            "grid_template_rows": null,
            "height": null,
            "justify_content": null,
            "justify_items": null,
            "left": null,
            "margin": null,
            "max_height": null,
            "max_width": null,
            "min_height": null,
            "min_width": null,
            "object_fit": null,
            "object_position": null,
            "order": null,
            "overflow": null,
            "overflow_x": null,
            "overflow_y": null,
            "padding": null,
            "right": null,
            "top": null,
            "visibility": null,
            "width": null
          }
        },
        "2838c75456ee4e35841c8cc9daf48f8b": {
          "model_module": "@jupyter-widgets/base",
          "model_module_version": "1.2.0",
          "model_name": "LayoutModel",
          "state": {
            "_model_module": "@jupyter-widgets/base",
            "_model_module_version": "1.2.0",
            "_model_name": "LayoutModel",
            "_view_count": null,
            "_view_module": "@jupyter-widgets/base",
            "_view_module_version": "1.2.0",
            "_view_name": "LayoutView",
            "align_content": null,
            "align_items": null,
            "align_self": null,
            "border": null,
            "bottom": null,
            "display": null,
            "flex": null,
            "flex_flow": null,
            "grid_area": null,
            "grid_auto_columns": null,
            "grid_auto_flow": null,
            "grid_auto_rows": null,
            "grid_column": null,
            "grid_gap": null,
            "grid_row": null,
            "grid_template_areas": null,
            "grid_template_columns": null,
            "grid_template_rows": null,
            "height": null,
            "justify_content": null,
            "justify_items": null,
            "left": null,
            "margin": null,
            "max_height": null,
            "max_width": null,
            "min_height": null,
            "min_width": null,
            "object_fit": null,
            "object_position": null,
            "order": null,
            "overflow": null,
            "overflow_x": null,
            "overflow_y": null,
            "padding": null,
            "right": null,
            "top": null,
            "visibility": null,
            "width": null
          }
        },
        "2b4226eb653246a280a7a58bbb13c452": {
          "model_module": "@jupyter-widgets/controls",
          "model_module_version": "1.5.0",
          "model_name": "HTMLModel",
          "state": {
            "_dom_classes": [],
            "_model_module": "@jupyter-widgets/controls",
            "_model_module_version": "1.5.0",
            "_model_name": "HTMLModel",
            "_view_count": null,
            "_view_module": "@jupyter-widgets/controls",
            "_view_module_version": "1.5.0",
            "_view_name": "HTMLView",
            "description": "",
            "description_tooltip": null,
            "layout": "IPY_MODEL_b27c0ce0e07a43a1950a9785ddd217d6",
            "placeholder": "​",
            "style": "IPY_MODEL_76903bb4aab74bc898aed44a955c235c",
            "value": " 26.0/26.0 [00:00&lt;00:00, 1.40kB/s]"
          }
        },
        "31d18e1334214fd9888b8ac35f299129": {
          "model_module": "@jupyter-widgets/controls",
          "model_module_version": "1.5.0",
          "model_name": "HTMLModel",
          "state": {
            "_dom_classes": [],
            "_model_module": "@jupyter-widgets/controls",
            "_model_module_version": "1.5.0",
            "_model_name": "HTMLModel",
            "_view_count": null,
            "_view_module": "@jupyter-widgets/controls",
            "_view_module_version": "1.5.0",
            "_view_name": "HTMLView",
            "description": "",
            "description_tooltip": null,
            "layout": "IPY_MODEL_2012b2f0ff074ccbb986c85ecd88c32e",
            "placeholder": "​",
            "style": "IPY_MODEL_b0fea7877f7a465c8da8526168f31645",
            "value": "vocab.json: 100%"
          }
        },
        "3405bd196b6641a595c19cc6bf4dcec9": {
          "model_module": "@jupyter-widgets/base",
          "model_module_version": "1.2.0",
          "model_name": "LayoutModel",
          "state": {
            "_model_module": "@jupyter-widgets/base",
            "_model_module_version": "1.2.0",
            "_model_name": "LayoutModel",
            "_view_count": null,
            "_view_module": "@jupyter-widgets/base",
            "_view_module_version": "1.2.0",
            "_view_name": "LayoutView",
            "align_content": null,
            "align_items": null,
            "align_self": null,
            "border": null,
            "bottom": null,
            "display": null,
            "flex": null,
            "flex_flow": null,
            "grid_area": null,
            "grid_auto_columns": null,
            "grid_auto_flow": null,
            "grid_auto_rows": null,
            "grid_column": null,
            "grid_gap": null,
            "grid_row": null,
            "grid_template_areas": null,
            "grid_template_columns": null,
            "grid_template_rows": null,
            "height": null,
            "justify_content": null,
            "justify_items": null,
            "left": null,
            "margin": null,
            "max_height": null,
            "max_width": null,
            "min_height": null,
            "min_width": null,
            "object_fit": null,
            "object_position": null,
            "order": null,
            "overflow": null,
            "overflow_x": null,
            "overflow_y": null,
            "padding": null,
            "right": null,
            "top": null,
            "visibility": null,
            "width": null
          }
        },
        "34b0e21b31d54f7eae1fcd7a409c2dca": {
          "model_module": "@jupyter-widgets/base",
          "model_module_version": "1.2.0",
          "model_name": "LayoutModel",
          "state": {
            "_model_module": "@jupyter-widgets/base",
            "_model_module_version": "1.2.0",
            "_model_name": "LayoutModel",
            "_view_count": null,
            "_view_module": "@jupyter-widgets/base",
            "_view_module_version": "1.2.0",
            "_view_name": "LayoutView",
            "align_content": null,
            "align_items": null,
            "align_self": null,
            "border": null,
            "bottom": null,
            "display": null,
            "flex": null,
            "flex_flow": null,
            "grid_area": null,
            "grid_auto_columns": null,
            "grid_auto_flow": null,
            "grid_auto_rows": null,
            "grid_column": null,
            "grid_gap": null,
            "grid_row": null,
            "grid_template_areas": null,
            "grid_template_columns": null,
            "grid_template_rows": null,
            "height": null,
            "justify_content": null,
            "justify_items": null,
            "left": null,
            "margin": null,
            "max_height": null,
            "max_width": null,
            "min_height": null,
            "min_width": null,
            "object_fit": null,
            "object_position": null,
            "order": null,
            "overflow": null,
            "overflow_x": null,
            "overflow_y": null,
            "padding": null,
            "right": null,
            "top": null,
            "visibility": null,
            "width": null
          }
        },
        "380b2f762adc459fb3af423f51d05b26": {
          "model_module": "@jupyter-widgets/controls",
          "model_module_version": "1.5.0",
          "model_name": "ProgressStyleModel",
          "state": {
            "_model_module": "@jupyter-widgets/controls",
            "_model_module_version": "1.5.0",
            "_model_name": "ProgressStyleModel",
            "_view_count": null,
            "_view_module": "@jupyter-widgets/base",
            "_view_module_version": "1.2.0",
            "_view_name": "StyleView",
            "bar_color": null,
            "description_width": ""
          }
        },
        "393c191fb7564035baa7dbe91782d348": {
          "model_module": "@jupyter-widgets/controls",
          "model_module_version": "1.5.0",
          "model_name": "HBoxModel",
          "state": {
            "_dom_classes": [],
            "_model_module": "@jupyter-widgets/controls",
            "_model_module_version": "1.5.0",
            "_model_name": "HBoxModel",
            "_view_count": null,
            "_view_module": "@jupyter-widgets/controls",
            "_view_module_version": "1.5.0",
            "_view_name": "HBoxView",
            "box_style": "",
            "children": [
              "IPY_MODEL_78d419585d504a338f1eca019dbf24b0",
              "IPY_MODEL_d1fcbb9868bd4f328d7f99da72a19272",
              "IPY_MODEL_2b4226eb653246a280a7a58bbb13c452"
            ],
            "layout": "IPY_MODEL_4a8a89ae1bde40a7aafd49f95985eee7"
          }
        },
        "411dc89f84884b55803f2195928f27e6": {
          "model_module": "@jupyter-widgets/controls",
          "model_module_version": "1.5.0",
          "model_name": "DescriptionStyleModel",
          "state": {
            "_model_module": "@jupyter-widgets/controls",
            "_model_module_version": "1.5.0",
            "_model_name": "DescriptionStyleModel",
            "_view_count": null,
            "_view_module": "@jupyter-widgets/base",
            "_view_module_version": "1.2.0",
            "_view_name": "StyleView",
            "description_width": ""
          }
        },
        "42212fb7a741457f9bbcde37cc41c4e4": {
          "model_module": "@jupyter-widgets/controls",
          "model_module_version": "1.5.0",
          "model_name": "DescriptionStyleModel",
          "state": {
            "_model_module": "@jupyter-widgets/controls",
            "_model_module_version": "1.5.0",
            "_model_name": "DescriptionStyleModel",
            "_view_count": null,
            "_view_module": "@jupyter-widgets/base",
            "_view_module_version": "1.2.0",
            "_view_name": "StyleView",
            "description_width": ""
          }
        },
        "49f4b19fcc85430db3cb53f6bf21b888": {
          "model_module": "@jupyter-widgets/base",
          "model_module_version": "1.2.0",
          "model_name": "LayoutModel",
          "state": {
            "_model_module": "@jupyter-widgets/base",
            "_model_module_version": "1.2.0",
            "_model_name": "LayoutModel",
            "_view_count": null,
            "_view_module": "@jupyter-widgets/base",
            "_view_module_version": "1.2.0",
            "_view_name": "LayoutView",
            "align_content": null,
            "align_items": null,
            "align_self": null,
            "border": null,
            "bottom": null,
            "display": null,
            "flex": null,
            "flex_flow": null,
            "grid_area": null,
            "grid_auto_columns": null,
            "grid_auto_flow": null,
            "grid_auto_rows": null,
            "grid_column": null,
            "grid_gap": null,
            "grid_row": null,
            "grid_template_areas": null,
            "grid_template_columns": null,
            "grid_template_rows": null,
            "height": null,
            "justify_content": null,
            "justify_items": null,
            "left": null,
            "margin": null,
            "max_height": null,
            "max_width": null,
            "min_height": null,
            "min_width": null,
            "object_fit": null,
            "object_position": null,
            "order": null,
            "overflow": null,
            "overflow_x": null,
            "overflow_y": null,
            "padding": null,
            "right": null,
            "top": null,
            "visibility": null,
            "width": null
          }
        },
        "4a8a89ae1bde40a7aafd49f95985eee7": {
          "model_module": "@jupyter-widgets/base",
          "model_module_version": "1.2.0",
          "model_name": "LayoutModel",
          "state": {
            "_model_module": "@jupyter-widgets/base",
            "_model_module_version": "1.2.0",
            "_model_name": "LayoutModel",
            "_view_count": null,
            "_view_module": "@jupyter-widgets/base",
            "_view_module_version": "1.2.0",
            "_view_name": "LayoutView",
            "align_content": null,
            "align_items": null,
            "align_self": null,
            "border": null,
            "bottom": null,
            "display": null,
            "flex": null,
            "flex_flow": null,
            "grid_area": null,
            "grid_auto_columns": null,
            "grid_auto_flow": null,
            "grid_auto_rows": null,
            "grid_column": null,
            "grid_gap": null,
            "grid_row": null,
            "grid_template_areas": null,
            "grid_template_columns": null,
            "grid_template_rows": null,
            "height": null,
            "justify_content": null,
            "justify_items": null,
            "left": null,
            "margin": null,
            "max_height": null,
            "max_width": null,
            "min_height": null,
            "min_width": null,
            "object_fit": null,
            "object_position": null,
            "order": null,
            "overflow": null,
            "overflow_x": null,
            "overflow_y": null,
            "padding": null,
            "right": null,
            "top": null,
            "visibility": null,
            "width": null
          }
        },
        "4b2e14c8aa9545f2879aef1d035cee8e": {
          "model_module": "@jupyter-widgets/base",
          "model_module_version": "1.2.0",
          "model_name": "LayoutModel",
          "state": {
            "_model_module": "@jupyter-widgets/base",
            "_model_module_version": "1.2.0",
            "_model_name": "LayoutModel",
            "_view_count": null,
            "_view_module": "@jupyter-widgets/base",
            "_view_module_version": "1.2.0",
            "_view_name": "LayoutView",
            "align_content": null,
            "align_items": null,
            "align_self": null,
            "border": null,
            "bottom": null,
            "display": null,
            "flex": null,
            "flex_flow": null,
            "grid_area": null,
            "grid_auto_columns": null,
            "grid_auto_flow": null,
            "grid_auto_rows": null,
            "grid_column": null,
            "grid_gap": null,
            "grid_row": null,
            "grid_template_areas": null,
            "grid_template_columns": null,
            "grid_template_rows": null,
            "height": null,
            "justify_content": null,
            "justify_items": null,
            "left": null,
            "margin": null,
            "max_height": null,
            "max_width": null,
            "min_height": null,
            "min_width": null,
            "object_fit": null,
            "object_position": null,
            "order": null,
            "overflow": null,
            "overflow_x": null,
            "overflow_y": null,
            "padding": null,
            "right": null,
            "top": null,
            "visibility": null,
            "width": null
          }
        },
        "5059578c11694d1e8b2df1c8e029e17e": {
          "model_module": "@jupyter-widgets/base",
          "model_module_version": "1.2.0",
          "model_name": "LayoutModel",
          "state": {
            "_model_module": "@jupyter-widgets/base",
            "_model_module_version": "1.2.0",
            "_model_name": "LayoutModel",
            "_view_count": null,
            "_view_module": "@jupyter-widgets/base",
            "_view_module_version": "1.2.0",
            "_view_name": "LayoutView",
            "align_content": null,
            "align_items": null,
            "align_self": null,
            "border": null,
            "bottom": null,
            "display": null,
            "flex": null,
            "flex_flow": null,
            "grid_area": null,
            "grid_auto_columns": null,
            "grid_auto_flow": null,
            "grid_auto_rows": null,
            "grid_column": null,
            "grid_gap": null,
            "grid_row": null,
            "grid_template_areas": null,
            "grid_template_columns": null,
            "grid_template_rows": null,
            "height": null,
            "justify_content": null,
            "justify_items": null,
            "left": null,
            "margin": null,
            "max_height": null,
            "max_width": null,
            "min_height": null,
            "min_width": null,
            "object_fit": null,
            "object_position": null,
            "order": null,
            "overflow": null,
            "overflow_x": null,
            "overflow_y": null,
            "padding": null,
            "right": null,
            "top": null,
            "visibility": null,
            "width": null
          }
        },
        "5aaefeb74c25411d9a2901c1f1758efe": {
          "model_module": "@jupyter-widgets/base",
          "model_module_version": "1.2.0",
          "model_name": "LayoutModel",
          "state": {
            "_model_module": "@jupyter-widgets/base",
            "_model_module_version": "1.2.0",
            "_model_name": "LayoutModel",
            "_view_count": null,
            "_view_module": "@jupyter-widgets/base",
            "_view_module_version": "1.2.0",
            "_view_name": "LayoutView",
            "align_content": null,
            "align_items": null,
            "align_self": null,
            "border": null,
            "bottom": null,
            "display": null,
            "flex": null,
            "flex_flow": null,
            "grid_area": null,
            "grid_auto_columns": null,
            "grid_auto_flow": null,
            "grid_auto_rows": null,
            "grid_column": null,
            "grid_gap": null,
            "grid_row": null,
            "grid_template_areas": null,
            "grid_template_columns": null,
            "grid_template_rows": null,
            "height": null,
            "justify_content": null,
            "justify_items": null,
            "left": null,
            "margin": null,
            "max_height": null,
            "max_width": null,
            "min_height": null,
            "min_width": null,
            "object_fit": null,
            "object_position": null,
            "order": null,
            "overflow": null,
            "overflow_x": null,
            "overflow_y": null,
            "padding": null,
            "right": null,
            "top": null,
            "visibility": null,
            "width": null
          }
        },
        "652d273801ed4e79b48480c8055f30cb": {
          "model_module": "@jupyter-widgets/controls",
          "model_module_version": "1.5.0",
          "model_name": "ProgressStyleModel",
          "state": {
            "_model_module": "@jupyter-widgets/controls",
            "_model_module_version": "1.5.0",
            "_model_name": "ProgressStyleModel",
            "_view_count": null,
            "_view_module": "@jupyter-widgets/base",
            "_view_module_version": "1.2.0",
            "_view_name": "StyleView",
            "bar_color": null,
            "description_width": ""
          }
        },
        "6652af068f83423dbae763fc7f6a4ce3": {
          "model_module": "@jupyter-widgets/controls",
          "model_module_version": "1.5.0",
          "model_name": "DescriptionStyleModel",
          "state": {
            "_model_module": "@jupyter-widgets/controls",
            "_model_module_version": "1.5.0",
            "_model_name": "DescriptionStyleModel",
            "_view_count": null,
            "_view_module": "@jupyter-widgets/base",
            "_view_module_version": "1.2.0",
            "_view_name": "StyleView",
            "description_width": ""
          }
        },
        "6ae72a91ee4149e99e70393331cf2eac": {
          "model_module": "@jupyter-widgets/controls",
          "model_module_version": "1.5.0",
          "model_name": "FloatProgressModel",
          "state": {
            "_dom_classes": [],
            "_model_module": "@jupyter-widgets/controls",
            "_model_module_version": "1.5.0",
            "_model_name": "FloatProgressModel",
            "_view_count": null,
            "_view_module": "@jupyter-widgets/controls",
            "_view_module_version": "1.5.0",
            "_view_name": "ProgressView",
            "bar_style": "success",
            "description": "",
            "description_tooltip": null,
            "layout": "IPY_MODEL_d2afb21b6bce46e99a3217d1d09e072b",
            "max": 665,
            "min": 0,
            "orientation": "horizontal",
            "style": "IPY_MODEL_151d93aaf94a4d618ab7a6c643ef1df7",
            "value": 665
          }
        },
        "6e223345b00c4641912993e7a7453486": {
          "model_module": "@jupyter-widgets/controls",
          "model_module_version": "1.5.0",
          "model_name": "FloatProgressModel",
          "state": {
            "_dom_classes": [],
            "_model_module": "@jupyter-widgets/controls",
            "_model_module_version": "1.5.0",
            "_model_name": "FloatProgressModel",
            "_view_count": null,
            "_view_module": "@jupyter-widgets/controls",
            "_view_module_version": "1.5.0",
            "_view_name": "ProgressView",
            "bar_style": "success",
            "description": "",
            "description_tooltip": null,
            "layout": "IPY_MODEL_193c3f2a27304222a2d9f9883357fc50",
            "max": 456318,
            "min": 0,
            "orientation": "horizontal",
            "style": "IPY_MODEL_380b2f762adc459fb3af423f51d05b26",
            "value": 456318
          }
        },
        "76903bb4aab74bc898aed44a955c235c": {
          "model_module": "@jupyter-widgets/controls",
          "model_module_version": "1.5.0",
          "model_name": "DescriptionStyleModel",
          "state": {
            "_model_module": "@jupyter-widgets/controls",
            "_model_module_version": "1.5.0",
            "_model_name": "DescriptionStyleModel",
            "_view_count": null,
            "_view_module": "@jupyter-widgets/base",
            "_view_module_version": "1.2.0",
            "_view_name": "StyleView",
            "description_width": ""
          }
        },
        "78d2b86cc6b947e69693803f72e7492d": {
          "model_module": "@jupyter-widgets/controls",
          "model_module_version": "1.5.0",
          "model_name": "HTMLModel",
          "state": {
            "_dom_classes": [],
            "_model_module": "@jupyter-widgets/controls",
            "_model_module_version": "1.5.0",
            "_model_name": "HTMLModel",
            "_view_count": null,
            "_view_module": "@jupyter-widgets/controls",
            "_view_module_version": "1.5.0",
            "_view_name": "HTMLView",
            "description": "",
            "description_tooltip": null,
            "layout": "IPY_MODEL_34b0e21b31d54f7eae1fcd7a409c2dca",
            "placeholder": "​",
            "style": "IPY_MODEL_6652af068f83423dbae763fc7f6a4ce3",
            "value": "config.json: 100%"
          }
        },
        "78d419585d504a338f1eca019dbf24b0": {
          "model_module": "@jupyter-widgets/controls",
          "model_module_version": "1.5.0",
          "model_name": "HTMLModel",
          "state": {
            "_dom_classes": [],
            "_model_module": "@jupyter-widgets/controls",
            "_model_module_version": "1.5.0",
            "_model_name": "HTMLModel",
            "_view_count": null,
            "_view_module": "@jupyter-widgets/controls",
            "_view_module_version": "1.5.0",
            "_view_name": "HTMLView",
            "description": "",
            "description_tooltip": null,
            "layout": "IPY_MODEL_5059578c11694d1e8b2df1c8e029e17e",
            "placeholder": "​",
            "style": "IPY_MODEL_9307b42bb0a743279e9289992eafd1a2",
            "value": "tokenizer_config.json: 100%"
          }
        },
        "7a83a859a42a4b1baa6783cb18ec398c": {
          "model_module": "@jupyter-widgets/controls",
          "model_module_version": "1.5.0",
          "model_name": "DescriptionStyleModel",
          "state": {
            "_model_module": "@jupyter-widgets/controls",
            "_model_module_version": "1.5.0",
            "_model_name": "DescriptionStyleModel",
            "_view_count": null,
            "_view_module": "@jupyter-widgets/base",
            "_view_module_version": "1.2.0",
            "_view_name": "StyleView",
            "description_width": ""
          }
        },
        "7e5f5ea812334bf983c132920e2d78b5": {
          "model_module": "@jupyter-widgets/controls",
          "model_module_version": "1.5.0",
          "model_name": "HBoxModel",
          "state": {
            "_dom_classes": [],
            "_model_module": "@jupyter-widgets/controls",
            "_model_module_version": "1.5.0",
            "_model_name": "HBoxModel",
            "_view_count": null,
            "_view_module": "@jupyter-widgets/controls",
            "_view_module_version": "1.5.0",
            "_view_name": "HBoxView",
            "box_style": "",
            "children": [
              "IPY_MODEL_9d44da8a868941e9a1b614ff02757e13",
              "IPY_MODEL_c9aca5d36c9a4d8782bd055c25b52b92",
              "IPY_MODEL_d39b9e0342f043759473f0d696cb2098"
            ],
            "layout": "IPY_MODEL_0bc07d3df96c4f0a8aaee0b1d293ccdf"
          }
        },
        "86a4c36bb0b64c728119c88c7d33d298": {
          "model_module": "@jupyter-widgets/controls",
          "model_module_version": "1.5.0",
          "model_name": "FloatProgressModel",
          "state": {
            "_dom_classes": [],
            "_model_module": "@jupyter-widgets/controls",
            "_model_module_version": "1.5.0",
            "_model_name": "FloatProgressModel",
            "_view_count": null,
            "_view_module": "@jupyter-widgets/controls",
            "_view_module_version": "1.5.0",
            "_view_name": "ProgressView",
            "bar_style": "success",
            "description": "",
            "description_tooltip": null,
            "layout": "IPY_MODEL_49f4b19fcc85430db3cb53f6bf21b888",
            "max": 1042301,
            "min": 0,
            "orientation": "horizontal",
            "style": "IPY_MODEL_652d273801ed4e79b48480c8055f30cb",
            "value": 1042301
          }
        },
        "9307b42bb0a743279e9289992eafd1a2": {
          "model_module": "@jupyter-widgets/controls",
          "model_module_version": "1.5.0",
          "model_name": "DescriptionStyleModel",
          "state": {
            "_model_module": "@jupyter-widgets/controls",
            "_model_module_version": "1.5.0",
            "_model_name": "DescriptionStyleModel",
            "_view_count": null,
            "_view_module": "@jupyter-widgets/base",
            "_view_module_version": "1.2.0",
            "_view_name": "StyleView",
            "description_width": ""
          }
        },
        "98d58907e7fe4876b31ae61559d4b3f0": {
          "model_module": "@jupyter-widgets/base",
          "model_module_version": "1.2.0",
          "model_name": "LayoutModel",
          "state": {
            "_model_module": "@jupyter-widgets/base",
            "_model_module_version": "1.2.0",
            "_model_name": "LayoutModel",
            "_view_count": null,
            "_view_module": "@jupyter-widgets/base",
            "_view_module_version": "1.2.0",
            "_view_name": "LayoutView",
            "align_content": null,
            "align_items": null,
            "align_self": null,
            "border": null,
            "bottom": null,
            "display": null,
            "flex": null,
            "flex_flow": null,
            "grid_area": null,
            "grid_auto_columns": null,
            "grid_auto_flow": null,
            "grid_auto_rows": null,
            "grid_column": null,
            "grid_gap": null,
            "grid_row": null,
            "grid_template_areas": null,
            "grid_template_columns": null,
            "grid_template_rows": null,
            "height": null,
            "justify_content": null,
            "justify_items": null,
            "left": null,
            "margin": null,
            "max_height": null,
            "max_width": null,
            "min_height": null,
            "min_width": null,
            "object_fit": null,
            "object_position": null,
            "order": null,
            "overflow": null,
            "overflow_x": null,
            "overflow_y": null,
            "padding": null,
            "right": null,
            "top": null,
            "visibility": null,
            "width": null
          }
        },
        "9a79aac892844dd88463341533b010e7": {
          "model_module": "@jupyter-widgets/controls",
          "model_module_version": "1.5.0",
          "model_name": "HBoxModel",
          "state": {
            "_dom_classes": [],
            "_model_module": "@jupyter-widgets/controls",
            "_model_module_version": "1.5.0",
            "_model_name": "HBoxModel",
            "_view_count": null,
            "_view_module": "@jupyter-widgets/controls",
            "_view_module_version": "1.5.0",
            "_view_name": "HBoxView",
            "box_style": "",
            "children": [
              "IPY_MODEL_05d2f2ee208041a59bc40be0eb7d3626",
              "IPY_MODEL_6e223345b00c4641912993e7a7453486",
              "IPY_MODEL_e439f8b903cd4dc7aa657d018f60f952"
            ],
            "layout": "IPY_MODEL_b0924f46d8a347eda73aa73001f16d0b"
          }
        },
        "9d44da8a868941e9a1b614ff02757e13": {
          "model_module": "@jupyter-widgets/controls",
          "model_module_version": "1.5.0",
          "model_name": "HTMLModel",
          "state": {
            "_dom_classes": [],
            "_model_module": "@jupyter-widgets/controls",
            "_model_module_version": "1.5.0",
            "_model_name": "HTMLModel",
            "_view_count": null,
            "_view_module": "@jupyter-widgets/controls",
            "_view_module_version": "1.5.0",
            "_view_name": "HTMLView",
            "description": "",
            "description_tooltip": null,
            "layout": "IPY_MODEL_3405bd196b6641a595c19cc6bf4dcec9",
            "placeholder": "​",
            "style": "IPY_MODEL_7a83a859a42a4b1baa6783cb18ec398c",
            "value": "tokenizer.json: 100%"
          }
        },
        "a879308c7cf846c0bfdb470e27b29947": {
          "model_module": "@jupyter-widgets/controls",
          "model_module_version": "1.5.0",
          "model_name": "ProgressStyleModel",
          "state": {
            "_model_module": "@jupyter-widgets/controls",
            "_model_module_version": "1.5.0",
            "_model_name": "ProgressStyleModel",
            "_view_count": null,
            "_view_module": "@jupyter-widgets/base",
            "_view_module_version": "1.2.0",
            "_view_name": "StyleView",
            "bar_color": null,
            "description_width": ""
          }
        },
        "ac46deabe86d43999cd588f31a328029": {
          "model_module": "@jupyter-widgets/controls",
          "model_module_version": "1.5.0",
          "model_name": "ProgressStyleModel",
          "state": {
            "_model_module": "@jupyter-widgets/controls",
            "_model_module_version": "1.5.0",
            "_model_name": "ProgressStyleModel",
            "_view_count": null,
            "_view_module": "@jupyter-widgets/base",
            "_view_module_version": "1.2.0",
            "_view_name": "StyleView",
            "bar_color": null,
            "description_width": ""
          }
        },
        "b0924f46d8a347eda73aa73001f16d0b": {
          "model_module": "@jupyter-widgets/base",
          "model_module_version": "1.2.0",
          "model_name": "LayoutModel",
          "state": {
            "_model_module": "@jupyter-widgets/base",
            "_model_module_version": "1.2.0",
            "_model_name": "LayoutModel",
            "_view_count": null,
            "_view_module": "@jupyter-widgets/base",
            "_view_module_version": "1.2.0",
            "_view_name": "LayoutView",
            "align_content": null,
            "align_items": null,
            "align_self": null,
            "border": null,
            "bottom": null,
            "display": null,
            "flex": null,
            "flex_flow": null,
            "grid_area": null,
            "grid_auto_columns": null,
            "grid_auto_flow": null,
            "grid_auto_rows": null,
            "grid_column": null,
            "grid_gap": null,
            "grid_row": null,
            "grid_template_areas": null,
            "grid_template_columns": null,
            "grid_template_rows": null,
            "height": null,
            "justify_content": null,
            "justify_items": null,
            "left": null,
            "margin": null,
            "max_height": null,
            "max_width": null,
            "min_height": null,
            "min_width": null,
            "object_fit": null,
            "object_position": null,
            "order": null,
            "overflow": null,
            "overflow_x": null,
            "overflow_y": null,
            "padding": null,
            "right": null,
            "top": null,
            "visibility": null,
            "width": null
          }
        },
        "b0fea7877f7a465c8da8526168f31645": {
          "model_module": "@jupyter-widgets/controls",
          "model_module_version": "1.5.0",
          "model_name": "DescriptionStyleModel",
          "state": {
            "_model_module": "@jupyter-widgets/controls",
            "_model_module_version": "1.5.0",
            "_model_name": "DescriptionStyleModel",
            "_view_count": null,
            "_view_module": "@jupyter-widgets/base",
            "_view_module_version": "1.2.0",
            "_view_name": "StyleView",
            "description_width": ""
          }
        },
        "b27c0ce0e07a43a1950a9785ddd217d6": {
          "model_module": "@jupyter-widgets/base",
          "model_module_version": "1.2.0",
          "model_name": "LayoutModel",
          "state": {
            "_model_module": "@jupyter-widgets/base",
            "_model_module_version": "1.2.0",
            "_model_name": "LayoutModel",
            "_view_count": null,
            "_view_module": "@jupyter-widgets/base",
            "_view_module_version": "1.2.0",
            "_view_name": "LayoutView",
            "align_content": null,
            "align_items": null,
            "align_self": null,
            "border": null,
            "bottom": null,
            "display": null,
            "flex": null,
            "flex_flow": null,
            "grid_area": null,
            "grid_auto_columns": null,
            "grid_auto_flow": null,
            "grid_auto_rows": null,
            "grid_column": null,
            "grid_gap": null,
            "grid_row": null,
            "grid_template_areas": null,
            "grid_template_columns": null,
            "grid_template_rows": null,
            "height": null,
            "justify_content": null,
            "justify_items": null,
            "left": null,
            "margin": null,
            "max_height": null,
            "max_width": null,
            "min_height": null,
            "min_width": null,
            "object_fit": null,
            "object_position": null,
            "order": null,
            "overflow": null,
            "overflow_x": null,
            "overflow_y": null,
            "padding": null,
            "right": null,
            "top": null,
            "visibility": null,
            "width": null
          }
        },
        "b8bde189df804f78b514e8caa5f932fe": {
          "model_module": "@jupyter-widgets/controls",
          "model_module_version": "1.5.0",
          "model_name": "HTMLModel",
          "state": {
            "_dom_classes": [],
            "_model_module": "@jupyter-widgets/controls",
            "_model_module_version": "1.5.0",
            "_model_name": "HTMLModel",
            "_view_count": null,
            "_view_module": "@jupyter-widgets/controls",
            "_view_module_version": "1.5.0",
            "_view_name": "HTMLView",
            "description": "",
            "description_tooltip": null,
            "layout": "IPY_MODEL_ff2135e636104355a67791c4df8d4673",
            "placeholder": "​",
            "style": "IPY_MODEL_f23503f3c77345059b47cb8703036ea0",
            "value": " 1.04M/1.04M [00:00&lt;00:00, 11.3MB/s]"
          }
        },
        "c94526b00df046258b47305c6de8efef": {
          "model_module": "@jupyter-widgets/controls",
          "model_module_version": "1.5.0",
          "model_name": "HBoxModel",
          "state": {
            "_dom_classes": [],
            "_model_module": "@jupyter-widgets/controls",
            "_model_module_version": "1.5.0",
            "_model_name": "HBoxModel",
            "_view_count": null,
            "_view_module": "@jupyter-widgets/controls",
            "_view_module_version": "1.5.0",
            "_view_name": "HBoxView",
            "box_style": "",
            "children": [
              "IPY_MODEL_78d2b86cc6b947e69693803f72e7492d",
              "IPY_MODEL_6ae72a91ee4149e99e70393331cf2eac",
              "IPY_MODEL_e7c2cffc34da44c5b651e667a6313273"
            ],
            "layout": "IPY_MODEL_4b2e14c8aa9545f2879aef1d035cee8e"
          }
        },
        "c9aca5d36c9a4d8782bd055c25b52b92": {
          "model_module": "@jupyter-widgets/controls",
          "model_module_version": "1.5.0",
          "model_name": "FloatProgressModel",
          "state": {
            "_dom_classes": [],
            "_model_module": "@jupyter-widgets/controls",
            "_model_module_version": "1.5.0",
            "_model_name": "FloatProgressModel",
            "_view_count": null,
            "_view_module": "@jupyter-widgets/controls",
            "_view_module_version": "1.5.0",
            "_view_name": "ProgressView",
            "bar_style": "success",
            "description": "",
            "description_tooltip": null,
            "layout": "IPY_MODEL_e71de0129c074bf6bd76d843b73bec44",
            "max": 1355256,
            "min": 0,
            "orientation": "horizontal",
            "style": "IPY_MODEL_a879308c7cf846c0bfdb470e27b29947",
            "value": 1355256
          }
        },
        "cd4ab2fc67994ca197fdcdbf9fc75345": {
          "model_module": "@jupyter-widgets/controls",
          "model_module_version": "1.5.0",
          "model_name": "DescriptionStyleModel",
          "state": {
            "_model_module": "@jupyter-widgets/controls",
            "_model_module_version": "1.5.0",
            "_model_name": "DescriptionStyleModel",
            "_view_count": null,
            "_view_module": "@jupyter-widgets/base",
            "_view_module_version": "1.2.0",
            "_view_name": "StyleView",
            "description_width": ""
          }
        },
        "d1fcbb9868bd4f328d7f99da72a19272": {
          "model_module": "@jupyter-widgets/controls",
          "model_module_version": "1.5.0",
          "model_name": "FloatProgressModel",
          "state": {
            "_dom_classes": [],
            "_model_module": "@jupyter-widgets/controls",
            "_model_module_version": "1.5.0",
            "_model_name": "FloatProgressModel",
            "_view_count": null,
            "_view_module": "@jupyter-widgets/controls",
            "_view_module_version": "1.5.0",
            "_view_name": "ProgressView",
            "bar_style": "success",
            "description": "",
            "description_tooltip": null,
            "layout": "IPY_MODEL_1ca56339201644a5a3e8d7a726bfb3c7",
            "max": 26,
            "min": 0,
            "orientation": "horizontal",
            "style": "IPY_MODEL_ac46deabe86d43999cd588f31a328029",
            "value": 26
          }
        },
        "d2afb21b6bce46e99a3217d1d09e072b": {
          "model_module": "@jupyter-widgets/base",
          "model_module_version": "1.2.0",
          "model_name": "LayoutModel",
          "state": {
            "_model_module": "@jupyter-widgets/base",
            "_model_module_version": "1.2.0",
            "_model_name": "LayoutModel",
            "_view_count": null,
            "_view_module": "@jupyter-widgets/base",
            "_view_module_version": "1.2.0",
            "_view_name": "LayoutView",
            "align_content": null,
            "align_items": null,
            "align_self": null,
            "border": null,
            "bottom": null,
            "display": null,
            "flex": null,
            "flex_flow": null,
            "grid_area": null,
            "grid_auto_columns": null,
            "grid_auto_flow": null,
            "grid_auto_rows": null,
            "grid_column": null,
            "grid_gap": null,
            "grid_row": null,
            "grid_template_areas": null,
            "grid_template_columns": null,
            "grid_template_rows": null,
            "height": null,
            "justify_content": null,
            "justify_items": null,
            "left": null,
            "margin": null,
            "max_height": null,
            "max_width": null,
            "min_height": null,
            "min_width": null,
            "object_fit": null,
            "object_position": null,
            "order": null,
            "overflow": null,
            "overflow_x": null,
            "overflow_y": null,
            "padding": null,
            "right": null,
            "top": null,
            "visibility": null,
            "width": null
          }
        },
        "d39b9e0342f043759473f0d696cb2098": {
          "model_module": "@jupyter-widgets/controls",
          "model_module_version": "1.5.0",
          "model_name": "HTMLModel",
          "state": {
            "_dom_classes": [],
            "_model_module": "@jupyter-widgets/controls",
            "_model_module_version": "1.5.0",
            "_model_name": "HTMLModel",
            "_view_count": null,
            "_view_module": "@jupyter-widgets/controls",
            "_view_module_version": "1.5.0",
            "_view_name": "HTMLView",
            "description": "",
            "description_tooltip": null,
            "layout": "IPY_MODEL_e90244ef2f9346708f7f8987b6726e87",
            "placeholder": "​",
            "style": "IPY_MODEL_cd4ab2fc67994ca197fdcdbf9fc75345",
            "value": " 1.36M/1.36M [00:00&lt;00:00, 31.0MB/s]"
          }
        },
        "da3c20d719254465945b449139572e97": {
          "model_module": "@jupyter-widgets/base",
          "model_module_version": "1.2.0",
          "model_name": "LayoutModel",
          "state": {
            "_model_module": "@jupyter-widgets/base",
            "_model_module_version": "1.2.0",
            "_model_name": "LayoutModel",
            "_view_count": null,
            "_view_module": "@jupyter-widgets/base",
            "_view_module_version": "1.2.0",
            "_view_name": "LayoutView",
            "align_content": null,
            "align_items": null,
            "align_self": null,
            "border": null,
            "bottom": null,
            "display": null,
            "flex": null,
            "flex_flow": null,
            "grid_area": null,
            "grid_auto_columns": null,
            "grid_auto_flow": null,
            "grid_auto_rows": null,
            "grid_column": null,
            "grid_gap": null,
            "grid_row": null,
            "grid_template_areas": null,
            "grid_template_columns": null,
            "grid_template_rows": null,
            "height": null,
            "justify_content": null,
            "justify_items": null,
            "left": null,
            "margin": null,
            "max_height": null,
            "max_width": null,
            "min_height": null,
            "min_width": null,
            "object_fit": null,
            "object_position": null,
            "order": null,
            "overflow": null,
            "overflow_x": null,
            "overflow_y": null,
            "padding": null,
            "right": null,
            "top": null,
            "visibility": null,
            "width": null
          }
        },
        "e439f8b903cd4dc7aa657d018f60f952": {
          "model_module": "@jupyter-widgets/controls",
          "model_module_version": "1.5.0",
          "model_name": "HTMLModel",
          "state": {
            "_dom_classes": [],
            "_model_module": "@jupyter-widgets/controls",
            "_model_module_version": "1.5.0",
            "_model_name": "HTMLModel",
            "_view_count": null,
            "_view_module": "@jupyter-widgets/controls",
            "_view_module_version": "1.5.0",
            "_view_name": "HTMLView",
            "description": "",
            "description_tooltip": null,
            "layout": "IPY_MODEL_98d58907e7fe4876b31ae61559d4b3f0",
            "placeholder": "​",
            "style": "IPY_MODEL_e7dd554e3c3b4056b76dd25a8d939856",
            "value": " 456k/456k [00:00&lt;00:00, 18.7MB/s]"
          }
        },
        "e71de0129c074bf6bd76d843b73bec44": {
          "model_module": "@jupyter-widgets/base",
          "model_module_version": "1.2.0",
          "model_name": "LayoutModel",
          "state": {
            "_model_module": "@jupyter-widgets/base",
            "_model_module_version": "1.2.0",
            "_model_name": "LayoutModel",
            "_view_count": null,
            "_view_module": "@jupyter-widgets/base",
            "_view_module_version": "1.2.0",
            "_view_name": "LayoutView",
            "align_content": null,
            "align_items": null,
            "align_self": null,
            "border": null,
            "bottom": null,
            "display": null,
            "flex": null,
            "flex_flow": null,
            "grid_area": null,
            "grid_auto_columns": null,
            "grid_auto_flow": null,
            "grid_auto_rows": null,
            "grid_column": null,
            "grid_gap": null,
            "grid_row": null,
            "grid_template_areas": null,
            "grid_template_columns": null,
            "grid_template_rows": null,
            "height": null,
            "justify_content": null,
            "justify_items": null,
            "left": null,
            "margin": null,
            "max_height": null,
            "max_width": null,
            "min_height": null,
            "min_width": null,
            "object_fit": null,
            "object_position": null,
            "order": null,
            "overflow": null,
            "overflow_x": null,
            "overflow_y": null,
            "padding": null,
            "right": null,
            "top": null,
            "visibility": null,
            "width": null
          }
        },
        "e7c2cffc34da44c5b651e667a6313273": {
          "model_module": "@jupyter-widgets/controls",
          "model_module_version": "1.5.0",
          "model_name": "HTMLModel",
          "state": {
            "_dom_classes": [],
            "_model_module": "@jupyter-widgets/controls",
            "_model_module_version": "1.5.0",
            "_model_name": "HTMLModel",
            "_view_count": null,
            "_view_module": "@jupyter-widgets/controls",
            "_view_module_version": "1.5.0",
            "_view_name": "HTMLView",
            "description": "",
            "description_tooltip": null,
            "layout": "IPY_MODEL_da3c20d719254465945b449139572e97",
            "placeholder": "​",
            "style": "IPY_MODEL_42212fb7a741457f9bbcde37cc41c4e4",
            "value": " 665/665 [00:00&lt;00:00, 51.2kB/s]"
          }
        },
        "e7dd554e3c3b4056b76dd25a8d939856": {
          "model_module": "@jupyter-widgets/controls",
          "model_module_version": "1.5.0",
          "model_name": "DescriptionStyleModel",
          "state": {
            "_model_module": "@jupyter-widgets/controls",
            "_model_module_version": "1.5.0",
            "_model_name": "DescriptionStyleModel",
            "_view_count": null,
            "_view_module": "@jupyter-widgets/base",
            "_view_module_version": "1.2.0",
            "_view_name": "StyleView",
            "description_width": ""
          }
        },
        "e90244ef2f9346708f7f8987b6726e87": {
          "model_module": "@jupyter-widgets/base",
          "model_module_version": "1.2.0",
          "model_name": "LayoutModel",
          "state": {
            "_model_module": "@jupyter-widgets/base",
            "_model_module_version": "1.2.0",
            "_model_name": "LayoutModel",
            "_view_count": null,
            "_view_module": "@jupyter-widgets/base",
            "_view_module_version": "1.2.0",
            "_view_name": "LayoutView",
            "align_content": null,
            "align_items": null,
            "align_self": null,
            "border": null,
            "bottom": null,
            "display": null,
            "flex": null,
            "flex_flow": null,
            "grid_area": null,
            "grid_auto_columns": null,
            "grid_auto_flow": null,
            "grid_auto_rows": null,
            "grid_column": null,
            "grid_gap": null,
            "grid_row": null,
            "grid_template_areas": null,
            "grid_template_columns": null,
            "grid_template_rows": null,
            "height": null,
            "justify_content": null,
            "justify_items": null,
            "left": null,
            "margin": null,
            "max_height": null,
            "max_width": null,
            "min_height": null,
            "min_width": null,
            "object_fit": null,
            "object_position": null,
            "order": null,
            "overflow": null,
            "overflow_x": null,
            "overflow_y": null,
            "padding": null,
            "right": null,
            "top": null,
            "visibility": null,
            "width": null
          }
        },
        "f23503f3c77345059b47cb8703036ea0": {
          "model_module": "@jupyter-widgets/controls",
          "model_module_version": "1.5.0",
          "model_name": "DescriptionStyleModel",
          "state": {
            "_model_module": "@jupyter-widgets/controls",
            "_model_module_version": "1.5.0",
            "_model_name": "DescriptionStyleModel",
            "_view_count": null,
            "_view_module": "@jupyter-widgets/base",
            "_view_module_version": "1.2.0",
            "_view_name": "StyleView",
            "description_width": ""
          }
        },
        "ff2135e636104355a67791c4df8d4673": {
          "model_module": "@jupyter-widgets/base",
          "model_module_version": "1.2.0",
          "model_name": "LayoutModel",
          "state": {
            "_model_module": "@jupyter-widgets/base",
            "_model_module_version": "1.2.0",
            "_model_name": "LayoutModel",
            "_view_count": null,
            "_view_module": "@jupyter-widgets/base",
            "_view_module_version": "1.2.0",
            "_view_name": "LayoutView",
            "align_content": null,
            "align_items": null,
            "align_self": null,
            "border": null,
            "bottom": null,
            "display": null,
            "flex": null,
            "flex_flow": null,
            "grid_area": null,
            "grid_auto_columns": null,
            "grid_auto_flow": null,
            "grid_auto_rows": null,
            "grid_column": null,
            "grid_gap": null,
            "grid_row": null,
            "grid_template_areas": null,
            "grid_template_columns": null,
            "grid_template_rows": null,
            "height": null,
            "justify_content": null,
            "justify_items": null,
            "left": null,
            "margin": null,
            "max_height": null,
            "max_width": null,
            "min_height": null,
            "min_width": null,
            "object_fit": null,
            "object_position": null,
            "order": null,
            "overflow": null,
            "overflow_x": null,
            "overflow_y": null,
            "padding": null,
            "right": null,
            "top": null,
            "visibility": null,
            "width": null
          }
        }
      }
    }
  },
  "nbformat": 4,
  "nbformat_minor": 0
}
